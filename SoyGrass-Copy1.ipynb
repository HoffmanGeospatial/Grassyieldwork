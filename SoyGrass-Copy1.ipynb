{
 "cells": [
  {
   "cell_type": "markdown",
   "id": "d45831ca",
   "metadata": {},
   "source": [
    "# Start up\n",
    "Find GRASS GIS Python packages first, import them, and then initialize GRASS GIS session:"
   ]
  },
  {
   "cell_type": "code",
   "execution_count": null,
   "id": "8a1f5c30",
   "metadata": {},
   "outputs": [],
   "source": [
    "# Import Python standard library and IPython packages\n",
    "import os\n",
    "import subprocess\n",
    "import sys\n",
    "\n",
    "# Ask GRASS GIS where its Python packages are.\n",
    "sys.path.append(\n",
    "    subprocess.check_output([\"grass\", \"--config\", \"python_path\"], text=True).strip()\n",
    ")\n",
    "\n",
    "# Import the GRASS GIS packages\n",
    "import grass.script as gs\n",
    "import grass.jupyter as gj\n",
    "\n",
    "# Start GRASS Session\n",
    "#session = gj.init(\"~/data/grassdata/nc_basic_spm_grass7/user1\")\n",
    "\n",
    "# Set computational region to the elevation raster.\n",
    "#gs.run_command(\"g.region\", raster=\"elevation\")\n"
   ]
  },
  {
   "cell_type": "markdown",
   "id": "2aae40a5",
   "metadata": {},
   "source": [
    "# Import yield data\n",
    "(a .shp file in this instance)"
   ]
  },
  {
   "cell_type": "code",
   "execution_count": null,
   "id": "515a760c",
   "metadata": {},
   "outputs": [],
   "source": [
    "# the OG script in desktop Grass:\n",
    "# v.import -o epsg=4326 input=ex1.shp output=ex1_map\n",
    "xamp_map = gj.Map() #this for displaying it in this here notebook\n",
    "gs.run_command(\"v.import\", input=\"ex1.shp\", epsg=\"4326\", output=\"ex1_map\", flags=\"o\")\n",
    "## light.it.up!\n",
    "gs.run_command(\"d.vect\", map=\"ex1_map\", type=\"point\", color=\"none\", fill_color=\"none\", width=\"1\", icon=\"basic/circle\", size=\"5\")\n",
    "gs.run_command(\"v.colors\", map=\"ex1_map\", use=\"attr\", column=\"Dry_Yield\", color=\"ryg\")\n",
    "\n",
    "# Set computational region to this new dataset\n",
    "gs.run_command(\"g.region\", vector=\"ex1_map\")\n",
    "\n",
    "\n",
    "# Show. me. the. mappy!\n",
    "ex1_map.show()"
   ]
  },
  {
   "cell_type": "markdown",
   "id": "d11e6fba",
   "metadata": {},
   "source": [
    "# View attribute table to scrutinize data quality"
   ]
  },
  {
   "cell_type": "code",
   "execution_count": null,
   "id": "b3a8a2e6",
   "metadata": {},
   "outputs": [],
   "source": [
    "# the OG script in desktop Grass:\n",
    "# g.gui.dbmgr map=xxx\n",
    "print(gs.run_command(\"g.gui.dbmgr\", map=\"ex1_map\"))"
   ]
  },
  {
   "cell_type": "markdown",
   "id": "8c4efc49",
   "metadata": {},
   "source": [
    "# Clean out the crud"
   ]
  },
  {
   "cell_type": "code",
   "execution_count": null,
   "id": "8b711d2c",
   "metadata": {},
   "outputs": [],
   "source": [
    "# Edit attributes\n",
    "gs.run_command(\"v.db.droprow\" input=\"ex1_map\" where=\"Speed = 0 OR Dry_Yield = 0\" output=\"NoZerosAllHeros\")"
   ]
  },
  {
   "cell_type": "markdown",
   "id": "70b7f023",
   "metadata": {},
   "source": [
    "# Reload color for clean map"
   ]
  },
  {
   "cell_type": "code",
   "execution_count": null,
   "id": "d2626e13",
   "metadata": {},
   "outputs": [],
   "source": [
    "gs.run_command(\"d.vect\" flags=\"i\" map=\"nozerosallheros\" type=\"point\" color=\"none\" fill_color=\"none\" width=\"1\" icon=\"basic/circle\" size=\"5\""
   ]
  }
 ],
 "metadata": {
  "kernelspec": {
   "display_name": "Python 3",
   "language": "python",
   "name": "python3"
  },
  "language_info": {
   "codemirror_mode": {
    "name": "ipython",
    "version": 3
   },
   "file_extension": ".py",
   "mimetype": "text/x-python",
   "name": "python",
   "nbconvert_exporter": "python",
   "pygments_lexer": "ipython3",
   "version": "3.9.11"
  }
 },
 "nbformat": 4,
 "nbformat_minor": 5
}

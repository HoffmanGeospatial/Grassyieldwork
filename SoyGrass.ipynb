{
 "cells": [
  {
   "cell_type": "markdown",
   "id": "472bbb06",
   "metadata": {},
   "source": [
    "# Start up\n",
    "Find GRASS GIS Python packages first, import them, and then initialize GRASS GIS session:"
   ]
  },
  {
   "cell_type": "markdown",
   "id": "701453b1-f40d-4b01-8aea-8ed71d90e919",
   "metadata": {
    "tags": []
   },
   "source": [
    "## This is the opening codechunk from \"Jupyter_example\""
   ]
  },
  {
   "cell_type": "code",
   "execution_count": null,
   "id": "65b66368-3d25-4db7-b53b-3c72bd9a735a",
   "metadata": {},
   "outputs": [],
   "source": [
    "# Import Python standard library and IPython packages we need.\n",
    "import os\n",
    "import subprocess\n",
    "import sys\n",
    "\n",
    "# Ask GRASS GIS where its Python packages are.\n",
    "sys.path.append(\n",
    "    subprocess.check_output([\"grass\", \"--config\", \"python_path\"], text=True).strip()\n",
    ")\n",
    "\n",
    "# Import the GRASS GIS packages we need.\n",
    "import grass.script as gs\n",
    "import grass.jupyter as gj\n",
    "\n",
    "# Start GRASS Session\n",
    "session = gj.init(\"/home/jovyan/data/\", \"testLocation\", \"PERMANENT\")"
   ]
  },
  {
   "cell_type": "markdown",
   "id": "4aa360f4-52a9-41cc-8a25-f3e9f2780991",
   "metadata": {
    "heading_collapsed": true,
    "tags": []
   },
   "source": [
    "## This is the opening codechunk from \"GIS714_assignments\""
   ]
  },
  {
   "cell_type": "code",
   "execution_count": null,
   "id": "88b47088-b047-4f5d-9d0f-c4484dd3b416",
   "metadata": {
    "hidden": true
   },
   "outputs": [],
   "source": [
    "# Import Python standard library and IPython packages we need.\n",
    "import os\n",
    "import sys\n",
    "import subprocess\n",
    "from IPython.display import Image\n",
    "\n",
    "# Ask GRASS GIS where its Python packages are.\n",
    "grass_call = \"grass\"\n",
    "sys.path.append(\n",
    "    subprocess.check_output([grass_call, \"--config\", \"python_path\"], text=True).strip()\n",
    ")\n",
    "\n",
    "# Import the GRASS GIS packages we need.\n",
    "import grass.script as gs\n",
    "import grass.jupyter as gj\n",
    "\n",
    "# Create a GRASS GIS session.\n",
    "gj.init(\"./data\", \"nc_spm_08_grass7\", \"user1\")"
   ]
  },
  {
   "cell_type": "markdown",
   "id": "86258bdb-fdc5-4c8c-a03d-8db272e1f818",
   "metadata": {
    "heading_collapsed": true,
    "tags": []
   },
   "source": [
    "## This is the opening codechunk from \"grass-gis-workshop-FOSS4G\""
   ]
  },
  {
   "cell_type": "code",
   "execution_count": null,
   "id": "52f15ec4-a1ab-4011-abd5-a0f9212bc717",
   "metadata": {
    "hidden": true
   },
   "outputs": [],
   "source": [
    "# Import Python standard library and IPython packages we need.\n",
    "import os\n",
    "import subprocess\n",
    "import sys\n",
    "\n",
    "# Ask GRASS GIS where its Python packages are.\n",
    "gisbase = subprocess.check_output([\"grass\", \"--config\", \"path\"], text=True).strip()\n",
    "os.environ[\"GISBASE\"] = gisbase\n",
    "sys.path.append(os.path.join(gisbase, \"etc\", \"python\"))\n",
    "\n",
    "# Import the GRASS GIS packages we need.\n",
    "import grass.script as gs\n",
    "import grass.jupyter as gj\n",
    "\n",
    "# Start GRASS Session\n",
    "gj.init(os.path.expanduser(\"~/grassdata\"), \"dix_park\", \"PERMANENT\")"
   ]
  },
  {
   "cell_type": "markdown",
   "id": "c6fe75c1",
   "metadata": {},
   "source": [
    "# Import yield data\n",
    "(a .shp file in this instance)"
   ]
  },
  {
   "cell_type": "code",
   "execution_count": null,
   "id": "681cf5b7",
   "metadata": {},
   "outputs": [],
   "source": [
    "# the OG script in desktop Grass:\n",
    "# v.import -o epsg=4326 input=ex1.shp output=ex1_map\n",
    "xamp_map = gj.Map() #this for displaying it in this here notebook\n",
    "gs.run_command(\"v.import\", input=\"ex1.shp\", epsg=\"4326\", output=\"ex1_map\", flags=\"o\")\n",
    "## light.it.up!\n",
    "gs.run_command(\"d.vect\", map=\"ex1_map\", type=\"point\", color=\"none\", fill_color=\"none\", width=\"1\", icon=\"basic/circle\", size=\"5\")\n",
    "gs.run_command(\"v.colors\", map=\"ex1_map\", use=\"attr\", column=\"Dry_Yield\", color=\"ryg\")\n",
    "\n",
    "# Set computational region to this new dataset\n",
    "gs.run_command(\"g.region\", vector=\"ex1_map\")\n",
    "\n",
    "\n",
    "# Show. me. the. mappy!\n",
    "ex1_map.show()"
   ]
  },
  {
   "cell_type": "markdown",
   "id": "7eaa8b61",
   "metadata": {},
   "source": [
    "# View attribute table to scrutinize data quality"
   ]
  },
  {
   "cell_type": "code",
   "execution_count": null,
   "id": "6a55f16a",
   "metadata": {},
   "outputs": [],
   "source": [
    "# the OG script in desktop Grass:\n",
    "# g.gui.dbmgr map=xxx\n",
    "print(gs.run_command(\"g.gui.dbmgr\", map=\"ex1_map\"))"
   ]
  },
  {
   "cell_type": "markdown",
   "id": "50a376c3",
   "metadata": {},
   "source": [
    "# Clean out the crud"
   ]
  },
  {
   "cell_type": "code",
   "execution_count": null,
   "id": "a2a748d6",
   "metadata": {},
   "outputs": [],
   "source": [
    "# Edit attributes\n",
    "gs.run_command(\"v.db.droprow\" input=\"ex1_map\" where=\"Speed = 0 OR Dry_Yield = 0\" output=\"NoZerosAllHeros\")"
   ]
  },
  {
   "cell_type": "markdown",
   "id": "50df40ce",
   "metadata": {},
   "source": [
    "# Reload color for clean map"
   ]
  },
  {
   "cell_type": "code",
   "execution_count": null,
   "id": "165c00c2",
   "metadata": {},
   "outputs": [],
   "source": [
    "gs.run_command(\"d.vect\" flags=\"i\" map=\"nozerosallheros\" type=\"point\" color=\"none\" fill_color=\"none\" width=\"1\" icon=\"basic/circle\" size=\"5\""
   ]
  }
 ],
 "metadata": {
  "kernelspec": {
   "display_name": "Python 3 (ipykernel)",
   "language": "python",
   "name": "python3"
  },
  "language_info": {
   "codemirror_mode": {
    "name": "ipython",
    "version": 3
   },
   "file_extension": ".py",
   "mimetype": "text/x-python",
   "name": "python",
   "nbconvert_exporter": "python",
   "pygments_lexer": "ipython3",
   "version": "3.9.11"
  }
 },
 "nbformat": 4,
 "nbformat_minor": 5
}

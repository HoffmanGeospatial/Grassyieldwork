{
 "cells": [
  {
   "cell_type": "markdown",
   "id": "472bbb06",
   "metadata": {},
   "source": [
    "# Start up\n",
    "Find GRASS GIS Python packages first, import them, and then initialize GRASS GIS session:"
   ]
  },
  {
   "cell_type": "code",
   "execution_count": null,
   "id": "65b66368-3d25-4db7-b53b-3c72bd9a735a",
   "metadata": {},
   "outputs": [],
   "source": [
    "# Import Python standard library and IPython packages we need.\n",
    "import os\n",
    "import subprocess\n",
    "import sys\n",
    "from IPython.display import Image\n",
    "\n",
    "# Ask GRASS GIS where its Python packages are.\n",
    "sys.path.append(\n",
    "    subprocess.check_output([\"grass\", \"--config\", \"python_path\"], text=True).strip()\n",
    ")\n",
    "\n",
    "# Import the GRASS GIS packages we need.\n",
    "import grass.script as gs\n",
    "import grass.jupyter as gj\n",
    "\n",
    "# Start GRASS Session\n",
    "session = gj.init(\"/home/jovyan/data/\", \"testLocation\", \"PERMANENT\")\n",
    "\n",
    "# Set working location of data\n",
    "os.chdir('/home/jovyan/data/testLocation')\n",
    "cwd = os.getcwd()"
   ]
  },
  {
   "cell_type": "markdown",
   "id": "c6fe75c1",
   "metadata": {},
   "source": [
    "# Import yield data\n",
    "(a .shp file in this instance)"
   ]
  },
  {
   "cell_type": "code",
   "execution_count": null,
   "id": "681cf5b7",
   "metadata": {},
   "outputs": [],
   "source": [
    "# Create map instance\n",
    "soy_map = gj.Map() #this for displaying it in this here notebook\n",
    "os.environ['GRASS_RENDER_IMMEDIATE'] = 'cairo'\n",
    "# Set computational region to this new dataset\n",
    "gs.run_command(\"g.region\", vector=\"ex1_map\")\n",
    "# Import data\n",
    "gs.run_command(\"v.import\", input=\"EX1.shp\", epsg=\"4326\", output=\"ex1_map\", flags=\"o\")\n",
    "## light.it.up!\n",
    "gs.run_command(\"v.colors\", map=\"ex1_map\", use=\"attr\", column=\"Dry_Yield\", color=\"ryg\")\n",
    "# \"Show. me. the mappy\"!\n",
    "soymap = soy_map.run(\"d.vect\", map=\"ex1_map\", type=\"point\", color=\"none\", fill_color=\"none\", width=\"1\", icon=\"basic/circle\", size=\"5\")\n",
    "soy_map.save(filename=\"ex1_map.png\")\n",
    "soy_map.save(filename=\"ex1_map.shp\")\n",
    "soy_map.show()"
   ]
  },
  {
   "cell_type": "markdown",
   "id": "7eaa8b61",
   "metadata": {},
   "source": [
    "# View attribute table to scrutinize data quality"
   ]
  },
  {
   "cell_type": "code",
   "execution_count": null,
   "id": "6a55f16a",
   "metadata": {},
   "outputs": [],
   "source": [
    "# the OG script in desktop Grass:\n",
    "# g.gui.dbmgr map=xxx\n",
    "print(gs.run_command(\"g.gui.dbmgr\", map=\"ex1_map\"))"
   ]
  },
  {
   "cell_type": "markdown",
   "id": "50a376c3",
   "metadata": {},
   "source": [
    "# Clean out the crud"
   ]
  },
  {
   "cell_type": "code",
   "execution_count": null,
   "id": "a2a748d6",
   "metadata": {},
   "outputs": [],
   "source": [
    "# Edit attributes\n",
    "gs.run_command(\"v.db.droprow\" input=\"ex1_map\" where=\"Speed = 0 OR Dry_Yield = 0\" output=\"NoZerosAllHeros\")"
   ]
  },
  {
   "cell_type": "markdown",
   "id": "50df40ce",
   "metadata": {},
   "source": [
    "# Reload color for clean map"
   ]
  },
  {
   "cell_type": "code",
   "execution_count": null,
   "id": "165c00c2",
   "metadata": {},
   "outputs": [],
   "source": [
    "gs.run_command(\"d.vect\" flags=\"i\" map=\"nozerosallheros\" type=\"point\" color=\"none\" fill_color=\"none\" width=\"1\" icon=\"basic/circle\" size=\"5\""
   ]
  }
 ],
 "metadata": {
  "kernelspec": {
   "display_name": "Python 3 (ipykernel)",
   "language": "python",
   "name": "python3"
  },
  "language_info": {
   "codemirror_mode": {
    "name": "ipython",
    "version": 3
   },
   "file_extension": ".py",
   "mimetype": "text/x-python",
   "name": "python",
   "nbconvert_exporter": "python",
   "pygments_lexer": "ipython3",
   "version": "3.9.11"
  }
 },
 "nbformat": 4,
 "nbformat_minor": 5
}
